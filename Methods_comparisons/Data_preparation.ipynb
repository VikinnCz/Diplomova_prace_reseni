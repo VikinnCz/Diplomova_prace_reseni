{
 "cells": [
  {
   "cell_type": "code",
   "execution_count": null,
   "metadata": {},
   "outputs": [],
   "source": [
    "import librosa\n",
    "import tensorflow as tf\n",
    "import numpy as np\n"
   ]
  },
  {
   "cell_type": "code",
   "execution_count": null,
   "metadata": {},
   "outputs": [],
   "source": [
    "file_name = \"../Referencni_skladby/Imanbek & BYOR - Belly Dancer (Official Music Video).wav\""
   ]
  },
  {
   "cell_type": "code",
   "execution_count": null,
   "metadata": {},
   "outputs": [],
   "source": [
    "y, sr = librosa.load(file_name,sr=22050, mono=True, duration=25)"
   ]
  },
  {
   "cell_type": "code",
   "execution_count": null,
   "metadata": {},
   "outputs": [],
   "source": [
    "def get_melspec(y, sr):\n",
    "    n_mels = 128\n",
    "    hop_length = 512\n",
    "    n_fft = 1024\n",
    "    #calculate the melspectogram of the provided audio wave\n",
    "    S = librosa.feature.melspectrogram(y=y, sr=sr, n_fft=n_fft, hop_length=hop_length, n_mels=n_mels)\n",
    "    \n",
    "    return S"
   ]
  },
  {
   "cell_type": "code",
   "execution_count": null,
   "metadata": {},
   "outputs": [],
   "source": [
    "mel = get_melspec(y,sr)"
   ]
  },
  {
   "cell_type": "code",
   "execution_count": null,
   "metadata": {},
   "outputs": [],
   "source": [
    "vstupni_tensor = tf.constant(mel)"
   ]
  },
  {
   "cell_type": "code",
   "execution_count": null,
   "metadata": {},
   "outputs": [],
   "source": [
    "vstupni_tensor_reshaped = tf.expand_dims(vstupni_tensor, axis=0)  # Přidává \"batch size\" dimenzi\n",
    "vstupni_tensor_reshaped = tf.expand_dims(vstupni_tensor_reshaped, axis=-1)  # Přidává \"channels\" dimenzi"
   ]
  },
  {
   "cell_type": "code",
   "execution_count": null,
   "metadata": {},
   "outputs": [],
   "source": [
    "saved_model_dir = 'model_muj_savedmodel_googleColab_trained/'\n",
    "\n",
    "# Načtení modelu\n",
    "model = tf.saved_model.load(saved_model_dir)\n",
    "model_infer = model.signatures[\"serving_default\"]"
   ]
  },
  {
   "cell_type": "code",
   "execution_count": null,
   "metadata": {},
   "outputs": [],
   "source": [
    "vysledek = model_infer(vstupni_tensor_reshaped)\n",
    "vysledek"
   ]
  },
  {
   "cell_type": "code",
   "execution_count": null,
   "metadata": {},
   "outputs": [],
   "source": [
    "predictions_tensor = vysledek['dense_3']"
   ]
  },
  {
   "cell_type": "code",
   "execution_count": null,
   "metadata": {},
   "outputs": [],
   "source": [
    "predictions = predictions_tensor.numpy()"
   ]
  },
  {
   "cell_type": "code",
   "execution_count": null,
   "metadata": {},
   "outputs": [],
   "source": [
    "genres = {0: 'blues', 1 : 'classical', 2: 'country', 3 : 'disco', 4 : 'hiphop',  5 : 'jazz' , 6 : 'metal', 7 : 'pop', 8 : 'reggae', 9 : 'rock'}"
   ]
  },
  {
   "cell_type": "code",
   "execution_count": null,
   "metadata": {},
   "outputs": [],
   "source": [
    "labels_list = [genres[i] for i in range(10)]"
   ]
  },
  {
   "cell_type": "code",
   "execution_count": null,
   "metadata": {},
   "outputs": [],
   "source": [
    "# Vytvoření pole pro labely\n",
    "labels_array = np.array(labels_list).reshape(-1, 1)  # Přeformátování na tvar (10, 1)\n",
    "\n",
    "# Přeformátování výstupních dat, pokud je třeba\n",
    "predictions = predictions.reshape(-1, 1)  # Ujistěte se, že má tvar (10, 1)\n",
    "\n",
    "# Sloučení labelů a výstupních dat\n",
    "final_array = np.hstack((labels_array, predictions))  # Sloučení do pole (10, 2)\n",
    "\n",
    "print(final_array)"
   ]
  }
 ],
 "metadata": {
  "kernelspec": {
   "display_name": "Python 3",
   "language": "python",
   "name": "python3"
  },
  "language_info": {
   "codemirror_mode": {
    "name": "ipython",
    "version": 3
   },
   "file_extension": ".py",
   "mimetype": "text/x-python",
   "name": "python",
   "nbconvert_exporter": "python",
   "pygments_lexer": "ipython3",
   "version": "3.11.6"
  }
 },
 "nbformat": 4,
 "nbformat_minor": 2
}
