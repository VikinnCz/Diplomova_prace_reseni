{
 "cells": [
  {
   "cell_type": "code",
   "execution_count": null,
   "metadata": {},
   "outputs": [],
   "source": [
    "import madmom\n",
    "import librosa\n",
    "import librosa.display\n",
    "import matplotlib.pyplot as plt\n",
    "import numpy as np\n",
    "import scipy\n",
    "import time"
   ]
  },
  {
   "cell_type": "markdown",
   "metadata": {},
   "source": [
    "### Librosa"
   ]
  },
  {
   "cell_type": "code",
   "execution_count": null,
   "metadata": {},
   "outputs": [],
   "source": [
    "#Chroma feature Librosa stft\n",
    "def Chroma_freature_librosa_stft(uploaded_file_name):\n",
    "    y, sr =librosa.load(uploaded_file_name)\n",
    "\n",
    "    chroma_librosa_stft = librosa.feature.chroma_stft(y=y, sr=sr)\n",
    "\n",
    "    return chroma_librosa_stft\n"
   ]
  },
  {
   "cell_type": "code",
   "execution_count": null,
   "metadata": {},
   "outputs": [],
   "source": [
    "#Chroma feature Librosa cqt\n",
    "def Chroma_freature_librosa_cqt(uploaded_file_name):\n",
    "    y, sr =librosa.load(uploaded_file_name)\n",
    "\n",
    "    chroma_librosa_cqt = librosa.feature.chroma_cqt(y=y, sr=sr)\n",
    "\n",
    "    return chroma_librosa_cqt\n"
   ]
  },
  {
   "cell_type": "code",
   "execution_count": null,
   "metadata": {},
   "outputs": [],
   "source": [
    "#Chroma feature Librosa cens\n",
    "def Chroma_freature_librosa_cens(uploaded_file_name):\n",
    "    y, sr =librosa.load(uploaded_file_name)\n",
    "\n",
    "    chroma_librosa_cens = librosa.feature.chroma_cens(y=y, sr=sr)\n",
    "\n",
    "    return chroma_librosa_cens\n"
   ]
  },
  {
   "cell_type": "code",
   "execution_count": null,
   "metadata": {},
   "outputs": [],
   "source": [
    "#Enhanced chroma\n",
    "def Chroma_feature_librosa_enhanced(uploaded_file_name):\n",
    "    y, sr = librosa.load(uploaded_file_name)\n",
    "\n",
    "    y_harm = librosa.effects.harmonic(y=y, margin=8)\n",
    "\n",
    "    chroma_harm = librosa.feature.chroma_cqt(y=y_harm, sr=sr)\n",
    "    chroma_filter = np.minimum(chroma_harm, librosa.decompose.nn_filter(chroma_harm, aggregate=np.median, metric= 'cosine'))\n",
    "    crhoma_smooth = scipy.ndimage.median_filter(chroma_filter, size=(1,9))\n",
    "\n",
    "    print(crhoma_smooth)\n",
    "    \n",
    "    return crhoma_smooth"
   ]
  },
  {
   "cell_type": "code",
   "execution_count": null,
   "metadata": {},
   "outputs": [],
   "source": [
    "# t_sampl = 1/sr\n",
    "# time_of_hop = t_sampl * 512\n",
    "\n",
    "# time = time_of_hop * np.arange(0,chroma_librosa_stft.shape[1],1)\n",
    "# time\n"
   ]
  },
  {
   "cell_type": "markdown",
   "metadata": {},
   "source": [
    "### Madmom"
   ]
  },
  {
   "cell_type": "code",
   "execution_count": null,
   "metadata": {},
   "outputs": [],
   "source": [
    "#Chroma feature Madmom\n",
    "def Chroma_feature_madmom(uploaded_file_name):\n",
    "    dcp = madmom.audio.DeepChromaProcessor()\n",
    "    chroma_madmom_deep = dcp(uploaded_file_name)\n",
    "    chroma_madmom_deep = np.transpose(chroma_madmom_deep)\n",
    "    return chroma_madmom_deep"
   ]
  },
  {
   "cell_type": "markdown",
   "metadata": {},
   "source": [
    "### Aubio\n",
    "\n",
    "Aubio neposkytuje přímý výpočet chromavektorů"
   ]
  },
  {
   "cell_type": "markdown",
   "metadata": {},
   "source": [
    "### Zobrazení grafů"
   ]
  },
  {
   "cell_type": "code",
   "execution_count": null,
   "metadata": {},
   "outputs": [],
   "source": [
    "def Print_graphs(chroma_librosa_stft, chroma_librosa_cqt, chroma_librosa_cens, chroma_librosa_enhanced, chroma_madmom_deep,uploaded_file_name):\n",
    "    xmin_time = 0; # Čas skladby, oa kterého se vykreslí grafy.\n",
    "    xmax_time = 60; # Čas skladby, do kterého se vykreslí grafy.\n",
    "    fig, ax = plt.subplots(6,1, figsize=(10,9))\n",
    "    fig.tight_layout()\n",
    "    fig.subplots_adjust(hspace = 0.9 )\n",
    "\n",
    "    hop_length = 512\n",
    "\n",
    "    y, sr = librosa.load(uploaded_file_name)\n",
    "    M = librosa.feature.melspectrogram(y=y, sr=sr, hop_length=hop_length)\n",
    "    librosa.display.specshow(librosa.power_to_db(M, ref=np.max),\n",
    "                            y_axis='mel', x_axis='time', hop_length=hop_length,\n",
    "                            ax=ax[0])\n",
    "    \n",
    "    ax[0].set_title('a) Melspektrogram')\n",
    "    ax[0].set_xlim(xmin=xmin_time, xmax=xmax_time)\n",
    "    ax[0].set_xlabel(\"čas [s]\")\n",
    "    ax[0].set_ylabel(\"frekvence [Hz]\")\n",
    "\n",
    "\n",
    "    img = librosa.display.specshow(chroma_librosa_stft, y_axis='chroma', x_axis='time', ax=ax[1])\n",
    "    ax[1].set_xlim(xmin=xmin_time, xmax=xmax_time)\n",
    "    ax[1].set_title(\"b) Librosa chroma_stft\")\n",
    "    ax[1].set_xlabel(\"čas [s]\")\n",
    "    ax[1].set_ylabel(\"výška tónu\")\n",
    "\n",
    "\n",
    "\n",
    "    librosa.display.specshow(chroma_librosa_cqt, y_axis='chroma', x_axis='time', ax=ax[2])\n",
    "    ax[2].set_xlim(xmin=xmin_time, xmax=xmax_time)\n",
    "    ax[2].set_title(\"c) Librosa chroma_cqt\")\n",
    "    ax[2].set_xlabel(\"čas [s]\")\n",
    "    ax[2].set_ylabel(\"výška tónu\")\n",
    "\n",
    "\n",
    "    librosa.display.specshow(chroma_librosa_cens, y_axis='chroma', x_axis='time', ax=ax[3])\n",
    "    ax[3].set_xlim(xmin=xmin_time, xmax=xmax_time)\n",
    "    ax[3].set_title(\"d) Librosa chroma_cens\")\n",
    "    ax[3].set_xlabel(\"čas [s]\")\n",
    "    ax[3].set_ylabel(\"výška tónu\")\n",
    "\n",
    "\n",
    "    librosa.display.specshow(chroma_librosa_enhanced, y_axis='chroma', x_axis='time', ax=ax[4])\n",
    "    ax[4].set_xlim(xmin=xmin_time, xmax=xmax_time)\n",
    "    ax[4].set_title(\"e) Librosa chroma_enhaced\")\n",
    "    ax[4].set_xlabel(\"čas [s]\")\n",
    "    ax[4].set_ylabel(\"výška tónu\")\n",
    "\n",
    "\n",
    "    librosa.display.specshow(chroma_madmom_deep, sr=sr, hop_length=2204, y_axis='chroma', x_axis='time', ax=ax[5])\n",
    "    ax[5].set_xlim(xmin=xmin_time, xmax=xmax_time)\n",
    "    ax[5].set_title(\"f) Madmom chroma_Deep\")\n",
    "    ax[5].set_xlabel(\"čas [s]\")\n",
    "    ax[5].set_ylabel(\"výška tónu\")\n",
    "\n",
    "    fig.colorbar(img, ax=ax,fraction=0.03, pad=0.01)\n",
    "\n",
    "    # fig.savefig('Oh-Darling_chroma_analysis_graphs.eps', format='eps', bbox_inches='tight')\n",
    "    \n",
    "    return"
   ]
  },
  {
   "cell_type": "code",
   "execution_count": null,
   "metadata": {},
   "outputs": [],
   "source": [
    "def Chromavectors_analyse(uploaded_file_name):\n",
    "    start_time =time.time()\n",
    "    chroma_librosa_stft = Chroma_freature_librosa_stft(uploaded_file_name)\n",
    "    time_librosa_stft = time.time() - start_time \n",
    "\n",
    "    start_time = time.time()\n",
    "    chroma_librosa_cqt = Chroma_freature_librosa_cqt(uploaded_file_name)\n",
    "    time_librosa_cqt = time.time() - start_time\n",
    "\n",
    "    start_time = time.time()\n",
    "    chroma_librosa_cens = Chroma_freature_librosa_cens(uploaded_file_name)\n",
    "    time_librosa_cens = time.time() - start_time\n",
    "\n",
    "    start_time = time.time()\n",
    "    chroma_librosa_enhaced = Chroma_feature_librosa_enhanced(uploaded_file_name)\n",
    "    time_librosa_enhanced = time.time() - start_time\n",
    "\n",
    "    start_time = time.time()\n",
    "    chroma_madmom_deep = Chroma_feature_madmom(uploaded_file_name)\n",
    "    time_madmom_deep = time.time() - start_time\n",
    "\n",
    "    print(\"Čas trvání výpočtu Librosa stft:\",f\"{time_librosa_stft: .4f}\",\"s\")\n",
    "    print(\"Čas trvání výpočtu Librosa cqt:\",f\"{time_librosa_cqt: .4f}\",\"s\")\n",
    "    print(\"Čas trvání výpočtu Librosa cens:\",f\"{time_librosa_cens: .4f}\",\"s\")\n",
    "    print(\"Čas trvání výpočtu Librosa enhanced:\",f\"{time_librosa_enhanced: .4f}\",\"s\")\n",
    "    print(\"Čas trvání výpočtu Madmom deep:\",f\"{time_madmom_deep: .4f}\",\"s\")\n",
    "\n",
    "    Print_graphs(chroma_librosa_stft, chroma_librosa_cqt, chroma_librosa_cens, chroma_librosa_enhaced, chroma_madmom_deep,uploaded_file_name)\n",
    "    times = [time_librosa_stft, time_librosa_cqt, time_librosa_cens, time_librosa_enhanced, time_madmom_deep]\n",
    "    return times"
   ]
  },
  {
   "cell_type": "code",
   "execution_count": null,
   "metadata": {},
   "outputs": [],
   "source": [
    "uploaded_file_name = \"Referencni_skladby/The Beatles - Abbey Road (1969) (2012 180g Vinyl 24bit-96kHz) [FLAC] vtwin88cube/04.-Oh! Darling.wav\"\n",
    "times_oh_darling = Chromavectors_analyse(uploaded_file_name)"
   ]
  },
  {
   "cell_type": "code",
   "execution_count": null,
   "metadata": {},
   "outputs": [],
   "source": [
    "uploaded_file_name = \"Referencni_skladby/The Beatles - Abbey Road (1969) (2012 180g Vinyl 24bit-96kHz) [FLAC] vtwin88cube/01.-Come Together.wav\"\n",
    "times_come_together = Chromavectors_analyse(uploaded_file_name)"
   ]
  },
  {
   "cell_type": "code",
   "execution_count": null,
   "metadata": {},
   "outputs": [],
   "source": [
    "uploaded_file_name = \"Referencni_skladby/The Beatles - Abbey Road (1969) (2012 180g Vinyl 24bit-96kHz) [FLAC] vtwin88cube/07.-Here Comes The Sun.wav\"\n",
    "times_here_comes = Chromavectors_analyse(uploaded_file_name)"
   ]
  },
  {
   "cell_type": "code",
   "execution_count": null,
   "metadata": {},
   "outputs": [],
   "source": [
    "uploaded_file_name = \"Referencni_skladby/Imanbek & BYOR - Belly Dancer (Official Music Video).wav\"\n",
    "Chromavectors_analyse(uploaded_file_name)"
   ]
  },
  {
   "cell_type": "code",
   "execution_count": null,
   "metadata": {},
   "outputs": [],
   "source": [
    "# set width of bar \n",
    "barWidth = 0.1\n",
    "fig, ax = plt.subplots(figsize =(8, 3)) \n",
    "fig.tight_layout()\n",
    "fig.subplots_adjust(hspace = 0.3 )\n",
    " \n",
    "# set height of bar \n",
    "times_librosa_stft = [times_oh_darling[0],times_come_together[0],times_here_comes[0]] \n",
    "times_librosa_cqt = [times_oh_darling[1],times_come_together[1],times_here_comes[1]] \n",
    "times_librosa_cens = [times_oh_darling[2],times_come_together[2],times_here_comes[2]] \n",
    "times_librosa_enhanced = [times_oh_darling[3],times_come_together[3],times_here_comes[3]] \n",
    "times_madmom = [times_oh_darling[4],times_come_together[4],times_here_comes[4]] \n",
    " \n",
    "# Set position of bar on X axis \n",
    "br1 = np.arange(len(times_librosa_stft)) \n",
    "br2 = [x + barWidth for x in br1] \n",
    "br3 = [x + barWidth for x in br2] \n",
    "br4 = [x + barWidth for x in br3]\n",
    "br5 = [x + barWidth for x in br4] \n",
    " \n",
    "# Make the plot\n",
    "ax.bar(br1, times_librosa_stft, width = barWidth, label ='Librosa_stft',alpha = 0.8)\n",
    "ax.bar(br2, times_librosa_cqt, width = barWidth, label ='Librosa_cqt',alpha = 0.8) \n",
    "ax.bar(br3, times_librosa_cens, width = barWidth, label ='Librosa_cens',alpha = 0.8) \n",
    "ax.bar(br4, times_librosa_enhanced, width = barWidth, label ='Librosa_enhanced',alpha = 0.8) \n",
    "ax.bar(br5, times_madmom, width = barWidth, label ='Madmom',alpha = 0.8) \n",
    " \n",
    "# Adding Xticks \n",
    "ax.set_ylabel(\"čas [s]\")\n",
    "ax.set_xticks([r + barWidth for r in range(len(times_librosa_stft))], \n",
    "        ['Oh Darling','Come together', 'Here comes the sun'])\n",
    "ax.legend(bbox_to_anchor=(0, 1.02, 1, 0.2), loc=\"lower left\",\n",
    "                mode=\"expand\", borderaxespad=0, ncol=5)\n",
    "\n",
    "# fig.savefig('Chroma_analysis_times_comparison.eps', format='eps', bbox_inches='tight')\n"
   ]
  }
 ],
 "metadata": {
  "kernelspec": {
   "display_name": "Python 3",
   "language": "python",
   "name": "python3"
  },
  "language_info": {
   "codemirror_mode": {
    "name": "ipython",
    "version": 3
   },
   "file_extension": ".py",
   "mimetype": "text/x-python",
   "name": "python",
   "nbconvert_exporter": "python",
   "pygments_lexer": "ipython3",
   "version": "3.11.6"
  }
 },
 "nbformat": 4,
 "nbformat_minor": 2
}
