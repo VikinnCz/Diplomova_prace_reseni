{
 "cells": [
  {
   "cell_type": "code",
   "execution_count": null,
   "metadata": {},
   "outputs": [],
   "source": [
    "import matplotlib.pyplot as plt\n",
    "import numpy as np\n",
    "import librosa\n",
    "import pyloudnorm as pyln"
   ]
  },
  {
   "cell_type": "code",
   "execution_count": null,
   "metadata": {},
   "outputs": [],
   "source": [
    "def Moovin_average_of_RMS(audio_path):   \n",
    "    y, sr = librosa.load(audio_path)\n",
    "\n",
    "    # STFT\n",
    "    S, phase = librosa.magphase(librosa.stft(y))\n",
    "\n",
    "    # rms calculation\n",
    "    rms = librosa.feature.rms(S=S)\n",
    "    seconds = 7.5\n",
    "\n",
    "    # mooving averages calculation\n",
    "    order = (sr/2048)*seconds\n",
    "    order = round(order)\n",
    "\n",
    "    rms_ma = np.zeros((1,(rms.size)))\n",
    "    for n in range(rms.size-order):\n",
    "        for m in range(order):\n",
    "            rms_ma[0,n] = rms_ma[0,n] + rms[0,(n+m)]\n",
    "        if rms_ma[0,n] != 0:\n",
    "            rms_ma[0,n] = rms_ma[0,n]/order\n",
    "    return rms, rms_ma, S"
   ]
  },
  {
   "cell_type": "code",
   "execution_count": null,
   "metadata": {},
   "outputs": [],
   "source": [
    "def Loudness(audio_path):\n",
    "  y, sr = librosa.load(audio_path)\n",
    "  meter = pyln.Meter(sr)\n",
    "  loudness = meter.integrated_loudness(y)\n",
    "  return loudness"
   ]
  },
  {
   "cell_type": "code",
   "execution_count": null,
   "metadata": {},
   "outputs": [],
   "source": [
    "def Print_graphs(rms,rms_ma,S):\n",
    "    fig, ax = plt.subplots(3,1, figsize=(10,6))\n",
    "    fig.tight_layout()\n",
    "    fig.subplots_adjust(hspace = 0.65 )\n",
    "\n",
    "    times = librosa.times_like(rms)\n",
    "\n",
    "    librosa.display.specshow(librosa.amplitude_to_db(S, ref=np.max), y_axis='log', x_axis='time', ax=ax[0])\n",
    "    ax[0].set(title='a) Spektrogram')\n",
    "    ax[0].set_ylabel(\"frekvence [Hz]\")\n",
    "\n",
    "\n",
    "    ax[1].plot(times, rms[0])\n",
    "    ax[1].set_xlabel(\"čas [s]\")\n",
    "    ax[1].set_ylabel(\"RMS\")\n",
    "    ax[1].set_title(\"b) Efektivní hodnota\")\n",
    "    ax[1].set_xlim(xmin=0, xmax=times[len(times)-1])\n",
    "\n",
    "    ax[2].plot(times, rms_ma[0])\n",
    "    ax[2].set_xlabel(\"čas [s]\")\n",
    "    ax[2].set_ylabel(\"RMS\")\n",
    "    ax[2].set_title('c) Klouzavý průměr efektivní hodnoty')\n",
    "    ax[2].set_xlim(xmin=0, xmax=times[len(times)-1])\n",
    "\n",
    "    # fig.savefig('Belly_dancer_RMS.eps', format='eps', bbox_inches='tight')"
   ]
  },
  {
   "cell_type": "code",
   "execution_count": null,
   "metadata": {},
   "outputs": [],
   "source": [
    "def Rms_analyse(audio_path):\n",
    "    rms, rms_ma, S = Moovin_average_of_RMS(audio_path=audio_path)\n",
    "    print(Loudness(audio_path))\n",
    "    Print_graphs(rms=rms, rms_ma=rms_ma, S=S)"
   ]
  },
  {
   "cell_type": "code",
   "execution_count": null,
   "metadata": {},
   "outputs": [],
   "source": [
    "audio_path = \"../Referencni_skladby/The Beatles - Abbey Road (1969) (2012 180g Vinyl 24bit-96kHz) [FLAC] vtwin88cube/04.-Oh! Darling.wav\"\n",
    "Rms_analyse(audio_path)"
   ]
  },
  {
   "cell_type": "code",
   "execution_count": null,
   "metadata": {},
   "outputs": [],
   "source": [
    "audio_path = \"../Referencni_skladby/The Beatles - Abbey Road (1969) (2012 180g Vinyl 24bit-96kHz) [FLAC] vtwin88cube/01.-Come Together.wav\"\n",
    "Rms_analyse(audio_path)"
   ]
  },
  {
   "cell_type": "code",
   "execution_count": null,
   "metadata": {},
   "outputs": [],
   "source": [
    "audio_path = \"../Referencni_skladby/The Beatles - Abbey Road (1969) (2012 180g Vinyl 24bit-96kHz) [FLAC] vtwin88cube/07.-Here Comes The Sun.wav\"\n",
    "Rms_analyse(audio_path)"
   ]
  },
  {
   "cell_type": "code",
   "execution_count": null,
   "metadata": {},
   "outputs": [],
   "source": [
    "audio_path = \"../Referencni_skladby/Imanbek & BYOR - Belly Dancer (Official Music Video).wav\"\n",
    "Rms_analyse(audio_path)"
   ]
  }
 ],
 "metadata": {
  "kernelspec": {
   "display_name": "Python 3",
   "language": "python",
   "name": "python3"
  },
  "language_info": {
   "codemirror_mode": {
    "name": "ipython",
    "version": 3
   },
   "file_extension": ".py",
   "mimetype": "text/x-python",
   "name": "python",
   "nbconvert_exporter": "python",
   "pygments_lexer": "ipython3",
   "version": "3.11.6"
  }
 },
 "nbformat": 4,
 "nbformat_minor": 2
}
