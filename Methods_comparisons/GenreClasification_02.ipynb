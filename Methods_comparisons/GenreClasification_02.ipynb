{
 "cells": [
  {
   "cell_type": "markdown",
   "metadata": {},
   "source": [
    "### Učení modelu pro klasifikaci žánrů"
   ]
  },
  {
   "cell_type": "markdown",
   "metadata": {},
   "source": [
    "Tutorial \n",
    "https://medium.com/analytics-vidhya/music-classification-using-deep-learning-python-b22614adb7a2"
   ]
  },
  {
   "cell_type": "code",
   "execution_count": null,
   "metadata": {},
   "outputs": [],
   "source": [
    "from audiomentations import Compose, AddGaussianNoise, TimeStretch, PitchShift, Shift\n",
    "import numpy as np\n",
    "import pandas as pd\n",
    "import matplotlib.pyplot as plt\n",
    "import librosa\n",
    "from tqdm import tqdm\n",
    "import os"
   ]
  },
  {
   "cell_type": "code",
   "execution_count": null,
   "metadata": {},
   "outputs": [],
   "source": [
    "add_noise = Compose([\n",
    "    AddGaussianNoise(min_amplitude=0.001, max_amplitude=0.015, p=0.7),\n",
    "])\n",
    "pitch_shift = Compose([\n",
    "    PitchShift(min_semitones=-4, max_semitones=12, p=0.5),\n",
    "])"
   ]
  },
  {
   "cell_type": "code",
   "execution_count": null,
   "metadata": {},
   "outputs": [],
   "source": [
    "#setting melspec features\n",
    "n_mels = 128\n",
    "hop_length = 512\n",
    "n_fft = 1024\n",
    "\n",
    "y, sr = librosa.load(\"../Generator_core_structure/MusicGenre-dataset-test-2/genres_original/disco/disco.00003.wav\")\n",
    "#extract melspec features using librosa\n",
    "S = librosa.feature.melspectrogram(y=y, sr=sr, n_fft=n_fft, hop_length=hop_length, n_mels=n_mels)\n",
    "\n",
    "#convert it to DB scale\n",
    "S_DB = librosa.power_to_db(S, ref=np.max)\n",
    "\n",
    "#display the spectrogram\n",
    "librosa.display.specshow(S_DB, sr=sr, hop_length=hop_length, x_axis='time', y_axis='mel')\n",
    "plt.colorbar(format='%+2.0f dB')"
   ]
  },
  {
   "cell_type": "code",
   "execution_count": null,
   "metadata": {},
   "outputs": [],
   "source": [
    "#temporary list for the input data\n",
    "data = []\n",
    "\n",
    "#list to append all the labels\n",
    "Y = []\n",
    "\n",
    "base_path = '../Generator_core_structure/MusicGenre-dataset-test-2/genres_original'\n",
    "\n",
    "#looping through all label directories\n",
    "for label in tqdm(os.listdir(base_path)):\n",
    "    file_path = base_path + '/' + label\n",
    "    \n",
    "    #looping through each file in the directory\n",
    "    for pth in os.listdir(file_path):\n",
    "        \n",
    "        try:\n",
    "            final_path = file_path + '/' + pth\n",
    "\n",
    "            #loading original file\n",
    "            y, sr = librosa.load(final_path, duration=25.0)\n",
    "            #appending data to a list\n",
    "            data.append(y)\n",
    "          \n",
    "\n",
    "            #appending labels to the label list\n",
    "            Y.append(label)\n",
    "            \n",
    "        except:\n",
    "            print(\"Error in file\", pth)\n",
    "            pass\n",
    "        \n",
    "#converting list to a numpy array\n",
    "X = np.stack(data)\n"
   ]
  },
  {
   "cell_type": "code",
   "execution_count": null,
   "metadata": {},
   "outputs": [],
   "source": [
    "from sklearn.model_selection import train_test_split\n",
    "#split the data using the SkLearn library\n",
    "audio_train, audio_test, y_train, y_test = train_test_split(\\\n",
    "     X, Y, test_size=0.20, random_state=6)"
   ]
  },
  {
   "cell_type": "code",
   "execution_count": null,
   "metadata": {},
   "outputs": [],
   "source": [
    "def get_melspec(audio, sr):\n",
    "    n_mels = 128\n",
    "    hop_length = 512\n",
    "    n_fft = 1024\n",
    "    #calculate the melspectogram of the provided audio wave\n",
    "    S = librosa.feature.melspectrogram(y= audio, sr=sr, n_fft=n_fft, hop_length=hop_length, n_mels=n_mels)\n",
    "    \n",
    "    return S"
   ]
  },
  {
   "cell_type": "code",
   "execution_count": null,
   "metadata": {},
   "outputs": [],
   "source": [
    "#temporary list for the input data\n",
    "X_train = []\n",
    "\n",
    "#list to append all the labels\n",
    "Y_train = []\n",
    "\n",
    "#looping through train data to create melspec and augment data\n",
    "for i, dat in tqdm(enumerate(audio_train)):\n",
    "        \n",
    "    try:\n",
    "\n",
    "        #adding noise to the file\n",
    "        noisy_audio = add_noise(dat ,sr)\n",
    "        #changing pitch of the audio\n",
    "        pitch_audio = pitch_shift(dat, sr)\n",
    "\n",
    "        #generate melspec for original and augmented files\n",
    "        mel = get_melspec(dat, sr)\n",
    "        noise_mel = get_melspec(noisy_audio, sr)\n",
    "        pitch_mel = get_melspec(pitch_audio, sr)\n",
    "\n",
    "        #appending augmented data to original training data\n",
    "        X_train.append(mel)\n",
    "        Y_train.append(y_train[i])\n",
    "        X_train.append(noise_mel)\n",
    "        Y_train.append(y_train[i])\n",
    "        X_train.append(pitch_mel)\n",
    "        Y_train.append(y_train[i])\n",
    "\n",
    "\n",
    "    except Exception as e:\n",
    "        print(\"Error in file:\", pth)\n",
    "        print(\"Error:\", e)"
   ]
  },
  {
   "cell_type": "code",
   "execution_count": null,
   "metadata": {},
   "outputs": [],
   "source": [
    "#temporary list for the input data\n",
    "X_test = []\n",
    "\n",
    "#list to append all the labels\n",
    "Y_test = []\n",
    "\n",
    "#looping through train data to create melspec and augment data\n",
    "for i, dat in tqdm(enumerate(audio_test)):\n",
    "        \n",
    "    try:\n",
    "        #generate melspec for original and augmented files\n",
    "        mel = get_melspec(dat, sr)\n",
    "       \n",
    "        #Appending test melspec to list\n",
    "        X_test.append(mel)\n",
    "        Y_test.append(y_test[i])\n",
    "        \n",
    "\n",
    "    except Exception as e:\n",
    "        print(\"Error in file:\", pth)\n",
    "        print(\"Error:\", e)"
   ]
  },
  {
   "cell_type": "code",
   "execution_count": null,
   "metadata": {},
   "outputs": [],
   "source": [
    "#converting the test and train data to numpy array\n",
    "X_train = np.stack(X_train)\n",
    "X_test = np.stack(X_test)"
   ]
  },
  {
   "cell_type": "code",
   "execution_count": null,
   "metadata": {},
   "outputs": [],
   "source": [
    "from sklearn.preprocessing import LabelEncoder\n",
    "\n",
    "encoder = LabelEncoder()\n",
    "encoder.fit(Y_train)\n",
    "\n",
    "Y_train = encoder.transform(Y_train).reshape([len(Y_train), 1])\n",
    "\n",
    "encoder = LabelEncoder()\n",
    "encoder.fit(Y_test)\n",
    "\n",
    "Y_test = encoder.transform(Y_test).reshape([len(Y_test), 1])"
   ]
  },
  {
   "cell_type": "code",
   "execution_count": null,
   "metadata": {},
   "outputs": [],
   "source": [
    "X_train = X_train.reshape(X_train.shape[0],X_train.shape[1],X_train.shape[2],1)\n",
    "X_test = X_test.reshape(X_test.shape[0],X_test.shape[1],X_test.shape[2],1)"
   ]
  },
  {
   "cell_type": "code",
   "execution_count": null,
   "metadata": {},
   "outputs": [],
   "source": [
    "#importing the keras modules\n",
    "from keras.models import Sequential\n",
    "from keras.layers import Dense, Dropout, Conv2D, MaxPooling2D, Flatten, GRU\n",
    "from keras.callbacks import Callback, EarlyStopping\n",
    "\n",
    "#Initiating the model as Sequential\n",
    "model = Sequential()\n",
    "\n",
    "#Adding the CNN layers along with some drop outs and maxpooling\n",
    "model.add(Conv2D(64, 2, activation = 'relu', input_shape = (X_train.shape[1:])))\n",
    "model.add(MaxPooling2D(pool_size = (2,2)))\n",
    "model.add(Dropout(0.1))\n",
    "model.add(Conv2D(128, 2, activation = 'relu'))\n",
    "model.add(MaxPooling2D(pool_size = (2,2)))\n",
    "model.add(Dropout(0.1))\n",
    "model.add(Conv2D(256, 2, activation = 'relu'))\n",
    "model.add(MaxPooling2D(pool_size = (4,4)))\n",
    "model.add(Dropout(0.1))\n",
    "model.add(Conv2D(512, 2, activation = 'relu'))\n",
    "model.add(MaxPooling2D(pool_size = (8,8),padding='same'))\n",
    "model.add(Dropout(0.1))\n",
    "\n",
    "#flattening the data to be passed to a dense layer\n",
    "model.add(Flatten())\n",
    "\n",
    "#Adding the dense layers\n",
    "model.add(Dense(2048, activation = 'relu'))\n",
    "model.add(Dense(1024, activation = 'relu'))\n",
    "model.add(Dense(256, activation = 'relu'))\n",
    "\n",
    "#final output layer with 10 predictions to be made\n",
    "model.add(Dense(10, activation = 'softmax'))\n",
    "\n",
    "'''\n",
    "Optimizer = Adam\n",
    "Loss = Sparse Categorical CrossEntropy\n",
    "'''\n",
    "model.compile(optimizer='adam', loss='sparse_categorical_crossentropy', metrics=['accuracy'])\n",
    "model.summary()"
   ]
  },
  {
   "cell_type": "code",
   "execution_count": null,
   "metadata": {},
   "outputs": [],
   "source": [
    "import tensorflow as tf\n",
    "\n",
    "# Cesta k vašemu modelu uloženému ve formátu SavedModel\n",
    "saved_model_dir = '../Generator_core_structure/model_muj_savedmodel_googleColab_trained/'\n",
    "\n",
    "# Načtení modelu\n",
    "model = tf.saved_model.load(saved_model_dir)\n"
   ]
  },
  {
   "cell_type": "code",
   "execution_count": null,
   "metadata": {},
   "outputs": [],
   "source": [
    "test_data = X_test[0]"
   ]
  },
  {
   "cell_type": "code",
   "execution_count": null,
   "metadata": {},
   "outputs": [],
   "source": [
    "infer = model.signatures[\"serving_default\"]"
   ]
  },
  {
   "cell_type": "code",
   "execution_count": null,
   "metadata": {},
   "outputs": [],
   "source": [
    "vstupni_tensor = tf.constant(test_data)"
   ]
  },
  {
   "cell_type": "code",
   "execution_count": null,
   "metadata": {},
   "outputs": [],
   "source": [
    "vstupni_tensor_reshaped = tf.expand_dims(vstupni_tensor, axis=0)  # Přidává \"batch size\" dimenzi\n",
    "# vstupni_tensor_reshaped = tf.expand_dims(vstupni_tensor_reshaped, axis=-1)  # Přidává \"channels\" dimenzi"
   ]
  },
  {
   "cell_type": "code",
   "execution_count": null,
   "metadata": {},
   "outputs": [],
   "source": [
    "vysledek = infer(vstupni_tensor_reshaped)"
   ]
  },
  {
   "cell_type": "code",
   "execution_count": null,
   "metadata": {},
   "outputs": [],
   "source": [
    "vysledek"
   ]
  },
  {
   "cell_type": "code",
   "execution_count": null,
   "metadata": {},
   "outputs": [],
   "source": [
    "predictions_tensor = vysledek['dense_3']\n",
    "genres_predictions = predictions_tensor.numpy()"
   ]
  },
  {
   "cell_type": "code",
   "execution_count": null,
   "metadata": {},
   "outputs": [],
   "source": [
    "genres_predictions = {\n",
    "    \"blues\" : genres_predictions[0,0],\n",
    "    \"classical\" : genres_predictions[0,1],\n",
    "    \"country\" : genres_predictions[0,2],\n",
    "    \"disco\" : genres_predictions[0,3],\n",
    "    \"hiphop\" : genres_predictions[0,4],\n",
    "    \"jazz\" : genres_predictions[0,5],\n",
    "    \"metal\" : genres_predictions[0,6],\n",
    "    \"pop\" : genres_predictions[0,7],\n",
    "    \"reggae\" : genres_predictions[0,8],\n",
    "    \"rock\" : genres_predictions[0,9]}\n",
    "genres_predictions"
   ]
  },
  {
   "cell_type": "code",
   "execution_count": null,
   "metadata": {},
   "outputs": [],
   "source": [
    "genre = max(genres_predictions, key=genres_predictions.get)\n",
    "genre"
   ]
  },
  {
   "cell_type": "code",
   "execution_count": null,
   "metadata": {},
   "outputs": [],
   "source": [
    "for genre_probability in genres_predictions:\n",
    "    print(genres_predictions[genre_probability])"
   ]
  },
  {
   "cell_type": "markdown",
   "metadata": {},
   "source": [
    "## Vstupní data do modelu:\n",
    "- Mono signál\n",
    "- Vzorkofací frekvence = 22 050 Hz\n",
    "- Délka analyzovaného úseku 25 s\n",
    "- Výpočet mel shape = (128, 1077):\n",
    "\n",
    "def get_melspec(audio, sr):\n",
    "    n_mels = 128\n",
    "    hop_length = 512\n",
    "    n_fft = 1024\n",
    "    #calculate the melspectogram of the provided audio wave\n",
    "    S = librosa.feature.melspectrogram(y= audio, sr=sr, n_fft=n_fft, hop_length=hop_length, n_mels=n_mels)\n",
    "    \n",
    "    return S\n",
    "\n",
    "- Vstupní data do modelu pak shape = (1, 128, 1077, 1)\n",
    "\n",
    "## Výstupní data:\n",
    "- shape = (1,10)\n",
    "- V pořadí [blues, classical, country, disco, hiphop, jazz, metal, pop, reggae, rock]\n",
    "    "
   ]
  },
  {
   "cell_type": "markdown",
   "metadata": {},
   "source": []
  }
 ],
 "metadata": {
  "kernelspec": {
   "display_name": "Python 3",
   "language": "python",
   "name": "python3"
  },
  "language_info": {
   "codemirror_mode": {
    "name": "ipython",
    "version": 3
   },
   "file_extension": ".py",
   "mimetype": "text/x-python",
   "name": "python",
   "nbconvert_exporter": "python",
   "pygments_lexer": "ipython3",
   "version": "3.11.6"
  }
 },
 "nbformat": 4,
 "nbformat_minor": 2
}
