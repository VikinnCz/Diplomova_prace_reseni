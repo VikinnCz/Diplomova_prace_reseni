{
 "cells": [
  {
   "cell_type": "code",
   "execution_count": null,
   "metadata": {},
   "outputs": [],
   "source": [
    "import librosa\n",
    "import madmom\n",
    "import numpy as np\n",
    "import scipy\n",
    "import matplotlib.pyplot as plt\n",
    "import matplotlib.transforms as mpt\n",
    "import soundfile as sf\n",
    "import tempfile"
   ]
  },
  {
   "cell_type": "code",
   "execution_count": null,
   "metadata": {},
   "outputs": [],
   "source": [
    "audio_path = \"../Referencni_skladby/Imanbek & BYOR - Belly Dancer (Official Music Video).wav\"\n",
    "# audio_path = \"../Referencni_skladby/BABYMONSTER - SHEESH MV.mp3\"\n",
    "# audio_path = \"../Referencni_skladby/The Beatles - Abbey Road (1969) (2012 180g Vinyl 24bit-96kHz) [FLAC] vtwin88cube/07.-Here Comes The Sun.wav\"\n",
    "# audio_path = \"../Referencni_skladby/The Beatles - Abbey Road (1969) (2012 180g Vinyl 24bit-96kHz) [FLAC] vtwin88cube/01.-Come Together.wav\"\n",
    "\n",
    "y, sr = librosa.load(audio_path,)"
   ]
  },
  {
   "cell_type": "code",
   "execution_count": null,
   "metadata": {},
   "outputs": [],
   "source": [
    "y_harm = librosa.effects.harmonic(y=y, margin=8)\n",
    "\n",
    "chroma_harm = librosa.feature.chroma_cqt(y=y_harm, sr=sr)\n",
    "chroma_filter = np.minimum(chroma_harm, librosa.decompose.nn_filter(chroma_harm, aggregate=np.median, metric= 'cosine'))\n",
    "chroma = scipy.ndimage.median_filter(chroma_filter, size=(1,9))"
   ]
  },
  {
   "cell_type": "code",
   "execution_count": null,
   "metadata": {},
   "outputs": [],
   "source": [
    "# Uložení numpy pole do dočasného WAV souboru\n",
    "temp_file = tempfile.NamedTemporaryFile(delete=False, suffix='.wav')\n",
    "sf.write(temp_file.name, y, sr)\n",
    "\n",
    "temp_file.name\n",
    "\n",
    "file_path = temp_file.name\n",
    "file_path = file_path.replace('\\\\', '/')"
   ]
  },
  {
   "cell_type": "code",
   "execution_count": null,
   "metadata": {},
   "outputs": [],
   "source": [
    "dcp = madmom.audio.chroma.DeepChromaProcessor()\n",
    "chroma_madmom_deep = dcp(audio_path, fps = 20.751)\n",
    "chroma_deep = np.transpose(chroma_madmom_deep)"
   ]
  },
  {
   "cell_type": "code",
   "execution_count": null,
   "metadata": {},
   "outputs": [],
   "source": [
    "temp_file.close()"
   ]
  },
  {
   "cell_type": "code",
   "execution_count": null,
   "metadata": {},
   "outputs": [],
   "source": [
    "bounds_ = librosa.segment.agglomerative(chroma, 12)\n",
    "bounds_times = librosa.frames_to_time(bounds_, sr=sr)\n",
    "\n",
    "bounds_deep = librosa.segment.agglomerative(chroma_deep, 12)\n",
    "bounds_deep_times = librosa.frames_to_time(bounds_deep, sr=sr)\n"
   ]
  },
  {
   "cell_type": "code",
   "execution_count": null,
   "metadata": {},
   "outputs": [],
   "source": [
    "chroma_binary = (chroma > 0.6).astype(int) # Transform chromagram from float to binary values.\n",
    "chroma_deep_binary = (chroma_deep > 0.6).astype(int) # Transform chromagram from float to binary values."
   ]
  },
  {
   "cell_type": "code",
   "execution_count": null,
   "metadata": {},
   "outputs": [],
   "source": [
    "bounds_binary = librosa.segment.agglomerative(chroma_binary, 12)\n",
    "bounds_binary_times = librosa.frames_to_time(bounds_binary, sr=sr)\n",
    "\n",
    "bounds_binary_deep = librosa.segment.agglomerative(chroma_deep_binary, 12)\n",
    "bounds_binary_deep_times = librosa.frames_to_time(bounds_binary_deep, sr=sr)"
   ]
  },
  {
   "cell_type": "code",
   "execution_count": null,
   "metadata": {},
   "outputs": [],
   "source": [
    "fig, ax = plt.subplots(4,1, figsize=(10,9))\n",
    "fig.tight_layout()\n",
    "fig.subplots_adjust(hspace = 0.6)\n",
    "trans1 = mpt.blended_transform_factory(ax[0].transData, ax[0].transAxes)\n",
    "trans2 = mpt.blended_transform_factory(ax[1].transData, ax[1].transAxes)\n",
    "trans3 = mpt.blended_transform_factory(ax[2].transData, ax[2].transAxes)\n",
    "trans4 = mpt.blended_transform_factory(ax[3].transData, ax[3].transAxes)\n",
    "\n",
    "\n",
    "hop_length = 512\n",
    "librosa.display.specshow(chroma, y_axis='chroma', x_axis='time', ax=ax[0])\n",
    "librosa.display.specshow(chroma_binary, y_axis='chroma', x_axis='time', ax=ax[1])\n",
    "librosa.display.specshow(chroma_deep, y_axis='chroma', x_axis='time', ax=ax[2])\n",
    "librosa.display.specshow(chroma_deep_binary, y_axis='chroma', x_axis='time', ax=ax[3])\n",
    "\n",
    "ax[0].vlines(bounds_times, 0, 1, color = 'linen', linestyle = '--', linewidth=2, alpha=0.9, label='Hranice segmentů', transform=trans1)\n",
    "ax[0].legend()\n",
    "ax[0].set(title = 'a) Librosa chroma_cqt')\n",
    "ax[0].set_xlabel(\"čas\")\n",
    "ax[0].set_ylabel(\"výška tónu\")\n",
    "\n",
    "ax[1].vlines(bounds_binary_times, 0, 1, color = 'linen', linestyle = '--', linewidth=2, alpha=0.9, label='Hranice segmentů', transform=trans2)\n",
    "ax[1].legend()\n",
    "ax[1].set(title = 'b) Librosa chroma_cqt binární')\n",
    "ax[1].set_xlabel(\"čas\")\n",
    "ax[1].set_ylabel(\"výška tónu\")\n",
    "\n",
    "ax[2].vlines(bounds_deep_times, 0, 1, color = 'linen', linestyle = '--', linewidth=2, alpha=0.9, label='Hranice segmentů', transform=trans3)\n",
    "ax[2].legend()\n",
    "ax[2].set(title = 'c) Madmom chroma_deep')\n",
    "ax[2].set_xlabel(\"čas\")\n",
    "ax[2].set_ylabel(\"výška tónu\")\n",
    "\n",
    "ax[3].vlines(bounds_binary_deep_times, 0, 1, color = 'linen', linestyle = '--', linewidth=2, alpha=0.9, label='Hranice segmentů', transform=trans4)\n",
    "ax[3].legend()\n",
    "ax[3].set(title = 'd) Madmom chroma_deep binární')\n",
    "ax[3].set_xlabel(\"čas\")\n",
    "ax[3].set_ylabel(\"výška tónu\")\n",
    "\n",
    "# fig.savefig('Segmentation_chroma_comparisons.eps', format='eps', bbox_inches='tight')\n"
   ]
  },
  {
   "cell_type": "code",
   "execution_count": null,
   "metadata": {},
   "outputs": [],
   "source": [
    "bounds_6 = librosa.segment.agglomerative(chroma_binary, 6)\n",
    "bounds_6_times = librosa.frames_to_time(bounds_6, sr=sr)\n",
    "\n",
    "bounds_7 = librosa.segment.agglomerative(chroma_binary, 7)\n",
    "bounds_7_times = librosa.frames_to_time(bounds_7, sr=sr)\n",
    "\n",
    "bounds_8 = librosa.segment.agglomerative(chroma_binary, 8)\n",
    "bounds_8_times = librosa.frames_to_time(bounds_8, sr=sr)\n",
    "\n",
    "bounds_9 = librosa.segment.agglomerative(chroma_binary, 9)\n",
    "bounds_9_times = librosa.frames_to_time(bounds_9, sr=sr)\n",
    "\n",
    "bounds_10 = librosa.segment.agglomerative(chroma_binary, 10)\n",
    "bounds_10_times = librosa.frames_to_time(bounds_10, sr=sr)\n",
    "\n",
    "bounds_11 = librosa.segment.agglomerative(chroma_binary, 11)\n",
    "bounds_11_times = librosa.frames_to_time(bounds_11, sr=sr)\n",
    "\n",
    "bounds_12 = librosa.segment.agglomerative(chroma_binary, 12)\n",
    "bounds_12_times = librosa.frames_to_time(bounds_12, sr=sr)\n",
    "\n",
    "bounds_13 = librosa.segment.agglomerative(chroma_binary, 13)\n",
    "bounds_13_times = librosa.frames_to_time(bounds_13, sr=sr)\n",
    "\n",
    "bounds_14 = librosa.segment.agglomerative(chroma_binary, 14)\n",
    "bounds_14_times = librosa.frames_to_time(bounds_14, sr=sr)\n",
    "\n",
    "bounds_16 = librosa.segment.agglomerative(chroma_binary, 16)\n",
    "bounds_16_times = librosa.frames_to_time(bounds_16, sr=sr)\n",
    "\n",
    "bounds_24 = librosa.segment.agglomerative(chroma_binary, 24)\n",
    "bounds_24_times = librosa.frames_to_time(bounds_24, sr=sr)\n",
    "\n",
    "bounds_32 = librosa.segment.agglomerative(chroma_binary, 32)\n",
    "bounds_32_times = librosa.frames_to_time(bounds_32, sr=sr)"
   ]
  },
  {
   "cell_type": "code",
   "execution_count": null,
   "metadata": {},
   "outputs": [],
   "source": [
    "fig, ax = plt.subplots(4,1, figsize=(10,9))\n",
    "fig.tight_layout()\n",
    "fig.subplots_adjust(hspace = 0.6)\n",
    "trans1 = mpt.blended_transform_factory(ax[0].transData, ax[0].transAxes)\n",
    "trans2 = mpt.blended_transform_factory(ax[1].transData, ax[1].transAxes)\n",
    "trans3 = mpt.blended_transform_factory(ax[2].transData, ax[2].transAxes)\n",
    "trans4 = mpt.blended_transform_factory(ax[3].transData, ax[3].transAxes)\n",
    "\n",
    "hop_length = 512\n",
    "librosa.display.specshow(chroma_binary, y_axis='chroma', x_axis='time', ax=ax[0])\n",
    "librosa.display.specshow(chroma_binary, y_axis='chroma', x_axis='time', ax=ax[1])\n",
    "librosa.display.specshow(chroma_binary, y_axis='chroma', x_axis='time', ax=ax[2])\n",
    "librosa.display.specshow(chroma_binary, y_axis='chroma', x_axis='time', ax=ax[3])\n",
    "\n",
    "ax[0].vlines(bounds_8_times, 0, 1, color = 'linen', linestyle = '--', linewidth=2, alpha=0.9, label='Hranice segmentů', transform=trans1)\n",
    "ax[0].legend()\n",
    "ax[0].set(title = 'a) Počet segmentů = 8')\n",
    "ax[0].set_xlabel(\"čas\")\n",
    "ax[0].set_ylabel(\"výška tónu\")\n",
    "\n",
    "ax[1].vlines(bounds_16_times, 0, 1, color = 'linen', linestyle = '--', linewidth=2, alpha=0.9, label='Hranice segmentů', transform=trans2)\n",
    "ax[1].legend()\n",
    "ax[1].set(title = 'b) Počet segmentů = 16')\n",
    "ax[1].set_xlabel(\"čas\")\n",
    "ax[1].set_ylabel(\"výška tónu\")\n",
    "\n",
    "ax[2].vlines(bounds_24_times, 0, 1, color = 'linen', linestyle = '--', linewidth=2, alpha=0.9, label='Hranice segmentů', transform=trans3)\n",
    "ax[2].legend()\n",
    "ax[2].set(title = 'c) Počet segmentů = 24')\n",
    "ax[2].set_xlabel(\"čas\")\n",
    "ax[2].set_ylabel(\"výška tónu\")\n",
    "\n",
    "ax[3].vlines(bounds_32_times, 0, 1, color = 'linen', linestyle = '--', linewidth=2, alpha=0.9, label='Hranice segmentů', transform=trans4)\n",
    "ax[3].legend()\n",
    "ax[3].set(title = 'd) Počet segmentů = 32')\n",
    "ax[3].set_xlabel(\"čas\")\n",
    "ax[3].set_ylabel(\"výška tónu\")\n",
    "\n",
    "# fig.savefig('Segmentation_segments_comparisons.eps', format='eps', bbox_inches='tight')"
   ]
  }
 ],
 "metadata": {
  "kernelspec": {
   "display_name": "Python 3",
   "language": "python",
   "name": "python3"
  },
  "language_info": {
   "codemirror_mode": {
    "name": "ipython",
    "version": 3
   },
   "file_extension": ".py",
   "mimetype": "text/x-python",
   "name": "python",
   "nbconvert_exporter": "python",
   "pygments_lexer": "ipython3",
   "version": "3.11.6"
  }
 },
 "nbformat": 4,
 "nbformat_minor": 2
}
