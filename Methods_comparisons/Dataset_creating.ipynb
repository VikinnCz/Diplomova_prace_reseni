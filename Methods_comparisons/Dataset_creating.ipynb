{
 "cells": [
  {
   "cell_type": "code",
   "execution_count": 35,
   "metadata": {},
   "outputs": [],
   "source": [
    "import json"
   ]
  },
  {
   "cell_type": "code",
   "execution_count": 36,
   "metadata": {},
   "outputs": [],
   "source": [
    "# Song genre constants\n",
    "BLUES       = 0\n",
    "CLASSICAL   = 1\n",
    "COUNTRY     = 2\n",
    "DISCO       = 3\n",
    "HIPHOP      = 4\n",
    "JAZZ        = 5\n",
    "METAL       = 6\n",
    "POP         = 7\n",
    "REGGAE      = 8\n",
    "ROCK        = 9\n",
    "\n",
    "# Song mood constants\n",
    "CHILL       = 0\n",
    "HANG_OUT    = 1\n",
    "HAPPY       = 2\n",
    "DANCING     = 3\n"
   ]
  },
  {
   "cell_type": "code",
   "execution_count": 37,
   "metadata": {},
   "outputs": [],
   "source": [
    "class AnimationBlock:\n",
    "    def __init__(self, anim_code : str, anim_characteristics : int, anim_length : int):\n",
    "        self._anim_code = anim_code\n",
    "        self._anim_characteristics = anim_characteristics\n",
    "        self._anim_length = anim_length\n",
    "\n",
    "    @property\n",
    "    def anim_code(self):\n",
    "        return self._anim_code\n",
    "    \n",
    "    @property\n",
    "    def anim_characteristics(self):\n",
    "        return self._anim_characteristics\n",
    "    \n",
    "    @property\n",
    "    def anim_length(self):\n",
    "        return self._anim_length\n",
    "    \n",
    "    def to_dict(self):\n",
    "        return{\n",
    "            \"anim_code\" : self._anim_code,\n",
    "            \"anim_characteristics\" : self._anim_characteristics,\n",
    "            \"anim_length\" : self._anim_length}\n"
   ]
  },
  {
   "cell_type": "code",
   "execution_count": 38,
   "metadata": {},
   "outputs": [],
   "source": [
    "class Dataset:\n",
    "    def __init__(self, genre : int, tempo : int, mood : int, anim_blocks: list[AnimationBlock]):\n",
    "        self.__genre = genre\n",
    "        self.__tempo = tempo\n",
    "        self.__mood = mood\n",
    "        self.__anim_blocks = anim_blocks\n",
    "\n",
    "    @property\n",
    "    def genre(self):\n",
    "        return self.__genre\n",
    "    \n",
    "    @property\n",
    "    def tempo(self):\n",
    "        return self.__tempo\n",
    "    \n",
    "    @property\n",
    "    def mood(self):\n",
    "        return self.__mood\n",
    "\n",
    "    @property\n",
    "    def anim_blocks(self):\n",
    "        return self.__anim_blocks\n",
    "    \n",
    "    def to_dict(self):\n",
    "        return {\n",
    "        \"genre\": self.__genre,\n",
    "        \"tempo\": self.__tempo,\n",
    "        \"mood\": self.__mood,\n",
    "        \"anim_blocks\": self.__anim_blocks}\n"
   ]
  },
  {
   "cell_type": "code",
   "execution_count": 39,
   "metadata": {},
   "outputs": [],
   "source": [
    "dataset_database = []"
   ]
  },
  {
   "cell_type": "markdown",
   "metadata": {},
   "source": [
    "Dataset pro přidání:"
   ]
  },
  {
   "cell_type": "code",
   "execution_count": 40,
   "metadata": {},
   "outputs": [
    {
     "ename": "SyntaxError",
     "evalue": "invalid syntax (522003191.py, line 3)",
     "output_type": "error",
     "traceback": [
      "\u001b[1;36m  Cell \u001b[1;32mIn[40], line 3\u001b[1;36m\u001b[0m\n\u001b[1;33m    anim_blocks.append(AnimationBlock(anim_code = \"\", anim_characteristics = , anim_length = ))\u001b[0m\n\u001b[1;37m                                                                             ^\u001b[0m\n\u001b[1;31mSyntaxError\u001b[0m\u001b[1;31m:\u001b[0m invalid syntax\n"
     ]
    }
   ],
   "source": [
    "anim_blocks = []\n",
    "\n",
    "anim_blocks.append(AnimationBlock(anim_code = \"\", anim_characteristics = , anim_length = ))\n",
    "\n",
    "dataset = Dataset(genre = 1, tempo = 120, mood = HAPPY, anim_blocks = anim_blocks)"
   ]
  },
  {
   "cell_type": "markdown",
   "metadata": {},
   "source": [
    "Konec datasetu:"
   ]
  },
  {
   "cell_type": "code",
   "execution_count": 27,
   "metadata": {},
   "outputs": [],
   "source": [
    "dataset_database.append(dataset)"
   ]
  },
  {
   "cell_type": "code",
   "execution_count": 28,
   "metadata": {},
   "outputs": [],
   "source": [
    "def obj_dict(obj):\n",
    "    return obj.to_dict()"
   ]
  },
  {
   "cell_type": "code",
   "execution_count": 29,
   "metadata": {},
   "outputs": [],
   "source": [
    "with open (\"../Generator_core_structure/dataset_database.json\", \"w\") as fp:\n",
    "    json.dump(dataset_database, fp=fp, default=obj_dict)"
   ]
  },
  {
   "cell_type": "code",
   "execution_count": 30,
   "metadata": {},
   "outputs": [],
   "source": [
    "with open (\"../Generator_core_structure/dataset_database.json\", \"r\") as fp:\n",
    "    dataset_database_json = json.load(fp,)\n",
    "\n",
    "dataset_database = [Dataset(**dataset) for dataset in dataset_database_json]\n",
    "\n",
    "for dataset in dataset_database:\n",
    "    print (dataset.to_dict())"
   ]
  }
 ],
 "metadata": {
  "kernelspec": {
   "display_name": "Python 3",
   "language": "python",
   "name": "python3"
  },
  "language_info": {
   "codemirror_mode": {
    "name": "ipython",
    "version": 3
   },
   "file_extension": ".py",
   "mimetype": "text/x-python",
   "name": "python",
   "nbconvert_exporter": "python",
   "pygments_lexer": "ipython3",
   "version": "3.11.6"
  }
 },
 "nbformat": 4,
 "nbformat_minor": 2
}
