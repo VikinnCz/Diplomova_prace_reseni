{
 "cells": [
  {
   "cell_type": "code",
   "execution_count": 1,
   "metadata": {},
   "outputs": [],
   "source": [
    "import json"
   ]
  },
  {
   "cell_type": "code",
   "execution_count": 2,
   "metadata": {},
   "outputs": [],
   "source": [
    "class AnimationBlock:\n",
    "    def __init__(self, anim_code : str, anim_characteristics : int, anim_length : int):\n",
    "        self._anim_code = anim_code\n",
    "        self._anim_characteristics = anim_characteristics\n",
    "        self._anim_length = anim_length\n",
    "\n",
    "    @property\n",
    "    def anim_code(self):\n",
    "        return self._anim_code\n",
    "    \n",
    "    @property\n",
    "    def anim_characteristics(self):\n",
    "        return self._anim_characteristics\n",
    "    \n",
    "    @property\n",
    "    def anim_length(self):\n",
    "        return self._anim_length\n",
    "    \n",
    "    def to_dict(self):\n",
    "        return{\n",
    "            \"anim_code\" : self._anim_code,\n",
    "            \"anim_characteristics\" : self._anim_characteristics,\n",
    "            \"anim_length\" : self._anim_length}\n"
   ]
  },
  {
   "cell_type": "code",
   "execution_count": 3,
   "metadata": {},
   "outputs": [],
   "source": [
    "class Dataset:\n",
    "    def __init__(self, genre : int, tempo : int, mood : int, anim_blocks: list[AnimationBlock]):\n",
    "        self.__genre = genre\n",
    "        self.__tempo = tempo\n",
    "        self.__mood = mood\n",
    "        self.__anim_blocks = anim_blocks\n",
    "\n",
    "    @property\n",
    "    def genre(self):\n",
    "        return self.__genre\n",
    "    \n",
    "    @property\n",
    "    def tempo(self):\n",
    "        return self.__tempo\n",
    "    \n",
    "    @property\n",
    "    def mood(self):\n",
    "        return self.__mood\n",
    "\n",
    "    @property\n",
    "    def anim_blocks(self):\n",
    "        return self.__anim_blocks\n",
    "    \n",
    "    def to_dict(self):\n",
    "        return {\n",
    "        \"genre\": self.__genre,\n",
    "        \"tempo\": self.__tempo,\n",
    "        \"mood\": self.__mood,\n",
    "        \"anim_blocks\": self.__anim_blocks}\n"
   ]
  },
  {
   "cell_type": "code",
   "execution_count": 16,
   "metadata": {},
   "outputs": [],
   "source": [
    "dataset_database = []\n",
    "anim_blocks = []"
   ]
  },
  {
   "cell_type": "code",
   "execution_count": 25,
   "metadata": {},
   "outputs": [],
   "source": [
    "anim_blocks.append(AnimationBlock(\"Tralala\",1,16))\n",
    "anim_blocks.append(AnimationBlock(\"Trololo\",2,45))"
   ]
  },
  {
   "cell_type": "code",
   "execution_count": 26,
   "metadata": {},
   "outputs": [],
   "source": [
    "dataset = Dataset(0,120,2,anim_blocks)"
   ]
  },
  {
   "cell_type": "code",
   "execution_count": 27,
   "metadata": {},
   "outputs": [],
   "source": [
    "dataset_database.append(dataset)"
   ]
  },
  {
   "cell_type": "code",
   "execution_count": 28,
   "metadata": {},
   "outputs": [],
   "source": [
    "def obj_dict(obj):\n",
    "    return obj.to_dict()"
   ]
  },
  {
   "cell_type": "code",
   "execution_count": 29,
   "metadata": {},
   "outputs": [],
   "source": [
    "with open (\"../Generator_core_structure/dataset_database.json\", \"w\") as fp:\n",
    "    json.dump(dataset_database, fp=fp, default=obj_dict)"
   ]
  },
  {
   "cell_type": "code",
   "execution_count": 30,
   "metadata": {},
   "outputs": [],
   "source": [
    "with open (\"../Generator_core_structure/dataset_database.json\", \"r\") as fp:\n",
    "    dataset_database_json = json.load(fp,)\n",
    "\n",
    "dataset_database = [Dataset(**dataset) for dataset in dataset_database_json]\n",
    "\n",
    "for dataset in dataset_database:\n",
    "    print (dataset.to_dict())"
   ]
  },
  {
   "cell_type": "code",
   "execution_count": 31,
   "metadata": {},
   "outputs": [],
   "source": []
  },
  {
   "cell_type": "code",
   "execution_count": 33,
   "metadata": {},
   "outputs": [
    {
     "name": "stdout",
     "output_type": "stream",
     "text": [
      "{'genre': 0, 'tempo': 120, 'mood': 2, 'anim_blocks': [{'anim_code': 'Tralala', 'anim_characteristics': 1, 'anim_length': 16}, {'anim_code': 'Trololo', 'anim_characteristics': 2, 'anim_length': 45}, {'anim_code': 'Tralala', 'anim_characteristics': 1, 'anim_length': 16}, {'anim_code': 'Trololo', 'anim_characteristics': 2, 'anim_length': 45}]}\n",
      "{'genre': 0, 'tempo': 120, 'mood': 2, 'anim_blocks': [{'anim_code': 'Tralala', 'anim_characteristics': 1, 'anim_length': 16}, {'anim_code': 'Trololo', 'anim_characteristics': 2, 'anim_length': 45}, {'anim_code': 'Tralala', 'anim_characteristics': 1, 'anim_length': 16}, {'anim_code': 'Trololo', 'anim_characteristics': 2, 'anim_length': 45}]}\n"
     ]
    }
   ],
   "source": []
  },
  {
   "cell_type": "code",
   "execution_count": null,
   "metadata": {},
   "outputs": [],
   "source": []
  },
  {
   "cell_type": "code",
   "execution_count": null,
   "metadata": {},
   "outputs": [],
   "source": []
  },
  {
   "cell_type": "code",
   "execution_count": null,
   "metadata": {},
   "outputs": [],
   "source": []
  }
 ],
 "metadata": {
  "kernelspec": {
   "display_name": "Python 3",
   "language": "python",
   "name": "python3"
  },
  "language_info": {
   "codemirror_mode": {
    "name": "ipython",
    "version": 3
   },
   "file_extension": ".py",
   "mimetype": "text/x-python",
   "name": "python",
   "nbconvert_exporter": "python",
   "pygments_lexer": "ipython3",
   "version": "3.11.6"
  }
 },
 "nbformat": 4,
 "nbformat_minor": 2
}
