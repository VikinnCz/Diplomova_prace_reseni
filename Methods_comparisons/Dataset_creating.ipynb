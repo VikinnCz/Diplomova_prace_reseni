{
 "cells": [
  {
   "cell_type": "code",
   "execution_count": 1,
   "metadata": {},
   "outputs": [],
   "source": [
    "import json"
   ]
  },
  {
   "cell_type": "code",
   "execution_count": 2,
   "metadata": {},
   "outputs": [],
   "source": [
    "# Song genre constants\n",
    "BLUES       = \"blues\"\n",
    "CLASSICAL   = \"classical\"\n",
    "COUNTRY     = \"country\"\n",
    "DISCO       = \"disco\"\n",
    "HIPHOP      = \"hiphop\"\n",
    "JAZZ        = \"jazz\"\n",
    "METAL       = \"metal\"\n",
    "POP         = \"pop\"\n",
    "REGGAE      = \"reggae\"\n",
    "ROCK        = \"rock\"\n",
    "\n",
    "# Song mood constants\n",
    "CHILL       = 0\n",
    "HANG_OUT    = 1\n",
    "HAPPY       = 2\n",
    "DANCING     = 3\n",
    "\n",
    "# Animation characteristics\n",
    "BANG        = 0 # Klrtátké segmenty. (Přechody - rychlé úderné animace)\n",
    "SHOT        = 1 # Začátek segmentů. (Úderné animace pro vtažení)\n",
    "THEMA       = 2 # Dlouhé segmenty s vyžší hodnotou RMS. (Tématická výplň)\n",
    "FLOW        = 3 # Dlouhé segmenty s nižší hodnotou RMS. (Táhlé animace)\n"
   ]
  },
  {
   "cell_type": "code",
   "execution_count": 3,
   "metadata": {},
   "outputs": [],
   "source": [
    "class AnimationBlock:\n",
    "    def __init__(self, anim_code : str, anim_characteristics : int, anim_length : int, anim_colors : int):\n",
    "        self.__code = anim_code\n",
    "        self.__characteristics = anim_characteristics\n",
    "        self.__length = anim_length\n",
    "        self.__colors = anim_colors\n",
    "\n",
    "    @property\n",
    "    def anim_code(self):\n",
    "        return self.__code\n",
    "    \n",
    "    @property\n",
    "    def anim_characteristics(self):\n",
    "        return self.__characteristics\n",
    "    \n",
    "    @property\n",
    "    def anim_length(self):\n",
    "        return self.__length\n",
    "    \n",
    "    @property\n",
    "    def anim_color(self):\n",
    "        return self.__colors\n",
    "    \n",
    "    def to_dict(self):\n",
    "        return{\n",
    "            \"anim_code\" : self.__code,\n",
    "            \"anim_characteristics\" : self.__characteristics,\n",
    "            \"anim_length\" : self.__length,\n",
    "            \"anim_colors\" : self.__colors}\n"
   ]
  },
  {
   "cell_type": "code",
   "execution_count": 4,
   "metadata": {},
   "outputs": [],
   "source": [
    "class Dataset:\n",
    "    def __init__(self, genre : dict, tempo : int, mood : int, anim_blocks: list[AnimationBlock]):\n",
    "        self.__genre = genre\n",
    "        self.__tempo = tempo\n",
    "        self.__mood = mood\n",
    "        self.__anim_blocks = anim_blocks\n",
    "\n",
    "    @property\n",
    "    def genre(self):\n",
    "        return self.__genre\n",
    "    \n",
    "    @property\n",
    "    def tempo(self):\n",
    "        return self.__tempo\n",
    "    \n",
    "    @property\n",
    "    def mood(self):\n",
    "        return self.__mood\n",
    "\n",
    "    @property\n",
    "    def anim_blocks(self):\n",
    "        return self.__anim_blocks\n",
    "    \n",
    "    def to_dict(self):\n",
    "        return {\n",
    "        \"genre\": self.__genre,\n",
    "        \"tempo\": self.__tempo,\n",
    "        \"mood\": self.__mood,\n",
    "        \"anim_blocks\": self.__anim_blocks}\n"
   ]
  },
  {
   "cell_type": "code",
   "execution_count": 5,
   "metadata": {},
   "outputs": [],
   "source": [
    "dataset_database = []"
   ]
  },
  {
   "cell_type": "markdown",
   "metadata": {},
   "source": [
    "Dataset pro přidání:"
   ]
  },
  {
   "cell_type": "code",
   "execution_count": 6,
   "metadata": {},
   "outputs": [],
   "source": [
    "anim_blocks = []\n",
    "anim_block_0 = AnimationBlock(\n",
    "    anim_code = \"addDrawing({start_beat}s, {end_beat}s, animPlasmaShot(0.5s, {color_0}, 25%));\",\n",
    "    anim_characteristics = BANG,\n",
    "    anim_length = 0.5,\n",
    "    anim_colors = 1\n",
    ")\n",
    "anim_block_1 = AnimationBlock(\n",
    "    anim_code =\"addDrawing({start_beat}s, {end_beat}s, animFill(0.05s, #{color_0}).animFill(0.1s, #000000));\",\n",
    "    anim_characteristics = SHOT,\n",
    "    anim_length =1,\n",
    "    anim_colors= 1\n",
    ")\n",
    "anim_block_2 = AnimationBlock(\n",
    "    anim_code = \"addLayer({start_beat}s, 5s, {{ addLayer(0s, 2.5s, {{ addDrawing(0s, 2.5s, animLoadingBar(5s, {color_0}, #000000)); addDrawing(0s, 2.5s, animLoadingBar(-5s, #000000, {color_0})); }}); addLayer(0s, 5s, {{ addDrawing(0s, 5s, animFill(Infinity, {color_0})); filDrawing(0s, 5s, animLoadingBar(-5s, #000000, {color_0})); filDrawing(0s, 5s, animLoadingBar(5s, {color_0}, #000000)); }}); }}).modifyTimeChange(1s, {time_modifer}s);\",\n",
    "    anim_characteristics = THEMA,\n",
    "    anim_length = 5,\n",
    "    anim_colors = 1\n",
    ")\n",
    "anim_block_3 = AnimationBlock(\n",
    "    anim_code = \"  addDrawing({start_beat}s, {end_beat}s, animColorGradient3(7.5s, #{color_1}, #{color_0}, {#color_2}, 100%, 35%));\",\n",
    "    anim_characteristics = FLOW,\n",
    "    anim_length = 15,\n",
    "    anim_colors = 3,\n",
    ")\n",
    "\n",
    "anim_blocks.append(anim_block_0)\n",
    "anim_blocks.append(anim_block_1)\n",
    "anim_blocks.append(anim_block_2)\n",
    "anim_blocks.append(anim_block_3)\n",
    "\n",
    "genres = {\n",
    "            BLUES : 0.3,\n",
    "            CLASSICAL : 0.1,\n",
    "            COUNTRY : 0.2,\n",
    "            DISCO : 0.6,\n",
    "            HIPHOP : 0.7,\n",
    "            JAZZ : 0.2,\n",
    "            METAL : 0.5,\n",
    "            POP : 0.8,\n",
    "            REGGAE : 0.5,\n",
    "            ROCK : 1.0}\n",
    "\n",
    "dataset = Dataset(genre = genres, tempo = 180, mood = HAPPY, anim_blocks = anim_blocks)"
   ]
  },
  {
   "cell_type": "markdown",
   "metadata": {},
   "source": [
    "Konec datasetu:"
   ]
  },
  {
   "cell_type": "code",
   "execution_count": 7,
   "metadata": {},
   "outputs": [],
   "source": [
    "dataset_database.append(dataset)"
   ]
  },
  {
   "cell_type": "code",
   "execution_count": 8,
   "metadata": {},
   "outputs": [],
   "source": [
    "def obj_dict(obj):\n",
    "    return obj.to_dict()"
   ]
  },
  {
   "cell_type": "code",
   "execution_count": 9,
   "metadata": {},
   "outputs": [],
   "source": [
    "with open (\"../Generator_core_structure/dataset_database.json\", \"w\") as fp:\n",
    "    json.dump(dataset_database, fp=fp, default=obj_dict)"
   ]
  },
  {
   "cell_type": "code",
   "execution_count": 10,
   "metadata": {},
   "outputs": [
    {
     "name": "stdout",
     "output_type": "stream",
     "text": [
      "{'genre': {'blues': 0.3, 'classical': 0.1, 'country': 0.2, 'disco': 0.6, 'hiphop': 0.7, 'jazz': 0.2, 'metal': 0.5, 'pop': 0.8, 'reggae': 0.5, 'rock': 1.0}, 'tempo': 180, 'mood': 2, 'anim_blocks': [{'anim_code': 'addDrawing({start_beat}s, {end_beat}s, animPlasmaShot(0.5s, {color_0}, 25%));', 'anim_characteristics': 0, 'anim_length': 0.5, 'anim_colors': 1}, {'anim_code': 'addDrawing({start_beat}s, {end_beat}s, animFill(0.05s, #{color_0}).animFill(0.1s, #000000));', 'anim_characteristics': 1, 'anim_length': 1, 'anim_colors': 1}, {'anim_code': 'addLayer({start_beat}s, 5s, {{ addLayer(0s, 2.5s, {{ addDrawing(0s, 2.5s, animLoadingBar(5s, {color_0}, #000000)); addDrawing(0s, 2.5s, animLoadingBar(-5s, #000000, {color_0})); }}); addLayer(0s, 5s, {{ addDrawing(0s, 5s, animFill(Infinity, {color_0})); filDrawing(0s, 5s, animLoadingBar(-5s, #000000, {color_0})); filDrawing(0s, 5s, animLoadingBar(5s, {color_0}, #000000)); }}); }}).modifyTimeChange(1s, {time_modifer}s);', 'anim_characteristics': 2, 'anim_length': 5, 'anim_colors': 1}, {'anim_code': '  addDrawing({start_beat}s, {end_beat}s, animColorGradient3(7.5s, #{color_1}, #{color_0}, {#color_2}, 100%, 35%));', 'anim_characteristics': 3, 'anim_length': 15, 'anim_colors': 3}]}\n"
     ]
    }
   ],
   "source": [
    "with open (\"../Generator_core_structure/dataset_database.json\", \"r\") as fp:\n",
    "    dataset_database_json = json.load(fp,)\n",
    "\n",
    "dataset_database = [Dataset(**dataset) for dataset in dataset_database_json]\n",
    "\n",
    "for dataset in dataset_database:\n",
    "    print (dataset.to_dict())"
   ]
  },
  {
   "cell_type": "code",
   "execution_count": null,
   "metadata": {},
   "outputs": [],
   "source": []
  },
  {
   "cell_type": "code",
   "execution_count": null,
   "metadata": {},
   "outputs": [],
   "source": []
  },
  {
   "cell_type": "code",
   "execution_count": null,
   "metadata": {},
   "outputs": [],
   "source": []
  },
  {
   "cell_type": "code",
   "execution_count": null,
   "metadata": {},
   "outputs": [],
   "source": []
  }
 ],
 "metadata": {
  "kernelspec": {
   "display_name": "Python 3",
   "language": "python",
   "name": "python3"
  },
  "language_info": {
   "codemirror_mode": {
    "name": "ipython",
    "version": 3
   },
   "file_extension": ".py",
   "mimetype": "text/x-python",
   "name": "python",
   "nbconvert_exporter": "python",
   "pygments_lexer": "ipython3",
   "version": "3.11.6"
  }
 },
 "nbformat": 4,
 "nbformat_minor": 2
}
