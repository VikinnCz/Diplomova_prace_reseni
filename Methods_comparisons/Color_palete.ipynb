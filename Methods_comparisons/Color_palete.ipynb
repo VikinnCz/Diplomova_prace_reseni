{
 "cells": [
  {
   "cell_type": "code",
   "execution_count": null,
   "metadata": {},
   "outputs": [],
   "source": [
    "import madmom\n",
    "import librosa\n",
    "import librosa.display\n",
    "import matplotlib.pyplot as plt\n",
    "import numpy as np\n",
    "import scipy\n",
    "import colorsys"
   ]
  },
  {
   "cell_type": "code",
   "execution_count": null,
   "metadata": {},
   "outputs": [],
   "source": [
    "# uploaded_file_name = \"¨../Referencni_skladby/Imanbek & BYOR - Belly Dancer (Official Music Video).wav\"\n",
    "uploaded_file_name = \"../Referencni_skladby/The Beatles - Abbey Road (1969) (2012 180g Vinyl 24bit-96kHz) [FLAC] vtwin88cube/07.-Here Comes The Sun.wav\"\n",
    "# uploaded_file_name = \"Referencni_skladby/The Beatles - Abbey Road (1969) (2012 180g Vinyl 24bit-96kHz) [FLAC] vtwin88cube/01.-Come Together.wav\""
   ]
  },
  {
   "cell_type": "markdown",
   "metadata": {},
   "source": [
    "# Chroma Features & Color palete"
   ]
  },
  {
   "cell_type": "code",
   "execution_count": null,
   "metadata": {},
   "outputs": [],
   "source": [
    "# Chroma librosa\n",
    "\n",
    "y, sr = librosa.load(uploaded_file_name)\n",
    "\n",
    "y_harm = librosa.effects.harmonic(y=y, margin=8)\n",
    "\n",
    "chroma_harm = librosa.feature.chroma_cqt(y=y_harm, sr=sr)\n",
    "chroma_filter = np.minimum(chroma_harm, librosa.decompose.nn_filter(chroma_harm, aggregate=np.median, metric= 'cosine'))\n",
    "chroma_smooth = scipy.ndimage.median_filter(chroma_filter, size=(1,9))\n",
    "\n",
    "np.shape(chroma_smooth)"
   ]
  },
  {
   "cell_type": "code",
   "execution_count": null,
   "metadata": {},
   "outputs": [],
   "source": [
    "# Chroma madmom\n",
    "# FPS Něco dělá\n",
    "\n",
    "dcp = madmom.audio.DeepChromaProcessor()\n",
    "chroma_madmom_deep = dcp(data = uploaded_file_name,fps = 20.751)\n",
    "chroma_madmom = np.transpose(chroma_madmom_deep)\n",
    "np.shape(chroma_madmom)"
   ]
  },
  {
   "cell_type": "code",
   "execution_count": null,
   "metadata": {},
   "outputs": [],
   "source": [
    "# chroma_smooth_b = (chroma_smooth > 0.6).astype(int)\n",
    "chroma_smooth_b = (chroma_madmom > 0.6).astype(int)\n",
    "chroma_smooth_b"
   ]
  },
  {
   "cell_type": "code",
   "execution_count": null,
   "metadata": {},
   "outputs": [],
   "source": [
    "xmin_time = 0; # Čas skladby, od kterého se vykreslí grafy.\n",
    "xmax_time = 60; # Čas skladby, do kterého se vykreslí grafy.\n",
    "fig, ax = plt.subplots(3,1, figsize=(10,9))\n",
    "fig.tight_layout()\n",
    "fig.subplots_adjust(hspace = 0.9 )\n",
    "\n",
    "hop_length = 512\n",
    "\n",
    "y, sr = librosa.load(uploaded_file_name)\n",
    "M = librosa.feature.melspectrogram(y=y, sr=sr, hop_length=hop_length)\n",
    "librosa.display.specshow(librosa.power_to_db(M, ref=np.max),\n",
    "                        y_axis='mel', x_axis='time', hop_length=hop_length,\n",
    "                        ax=ax[0])\n",
    "\n",
    "ax[0].set_title('a) Melspektrogram')\n",
    "ax[0].set_xlim(xmin=xmin_time, xmax=xmax_time)\n",
    "ax[0].set_xlabel(\"čas [s]\")\n",
    "ax[0].set_ylabel(\"frekvence [Hz]\")\n",
    "\n",
    "img = librosa.display.specshow(chroma_smooth, y_axis='chroma', x_axis='time', ax=ax[1])\n",
    "ax[1].set_xlim(xmin=xmin_time, xmax=xmax_time)\n",
    "ax[1].set_title(\"b) Librosa chroma_cqt_enhanced\")\n",
    "ax[1].set_xlabel(\"čas [s]\")\n",
    "ax[1].set_ylabel(\"výška tónu\")\n",
    "\n",
    "librosa.display.specshow(chroma_smooth_b, y_axis='chroma', x_axis='time', ax=ax[2])\n",
    "ax[2].set_xlim(xmin=xmin_time, xmax=xmax_time)\n",
    "ax[2].set_title(\"c) Librosa chroma_binery\")\n",
    "ax[2].set_xlabel(\"čas [s]\")\n",
    "ax[2].set_ylabel(\"výška tónu\")"
   ]
  },
  {
   "cell_type": "code",
   "execution_count": null,
   "metadata": {},
   "outputs": [],
   "source": [
    "suma = np.sum(chroma_smooth_b, axis=1)\n",
    "suma"
   ]
  },
  {
   "cell_type": "code",
   "execution_count": null,
   "metadata": {},
   "outputs": [],
   "source": [
    "def generate_triadic_colors(hue, saturation=0.85, lightness=0.5):\n",
    "    \"\"\"Generuje triadické barvy zadané HSL hodnoty.\"\"\"\n",
    "    # Správná syntaxe pro list comprehension\n",
    "    colors_hsl = [((hue + i * 120) % 360, saturation, lightness) for i in range(3)]\n",
    "    colors_rgb = [colorsys.hls_to_rgb(h/360.0, lightness, saturation) for h, s, l in colors_hsl]\n",
    "    # Převedení RGB z rozsahu 0-1 na 0-255\n",
    "    colors_rgb = [(int(r * 255), int(g * 255), int(b * 255)) for r, g, b in colors_rgb]\n",
    "    colors_rgb = np.array(colors_rgb)\n",
    "    return colors_rgb\n",
    "\n",
    "# Generujeme triadické barvy\n",
    "hue = np.random.randint(0, 360)  # Náhodný odstín\n",
    "triadic_colors = generate_triadic_colors(hue)\n",
    "\n",
    "print(\"Triadické barvy (RGB):\", triadic_colors)"
   ]
  },
  {
   "cell_type": "code",
   "execution_count": null,
   "metadata": {},
   "outputs": [],
   "source": [
    "most_played_tones = [0,0,0]\n",
    "sum_c = np.copy(suma)\n",
    "\n",
    "for i in range(3):\n",
    "    most_played_tones[i] = np.argmax(sum_c)\n",
    "    sum_c[most_played_tones[i]] = 0\n",
    "\n",
    "most_played_tones"
   ]
  },
  {
   "cell_type": "code",
   "execution_count": null,
   "metadata": {},
   "outputs": [],
   "source": [
    "tones_colors = np.zeros(shape=(12,3), dtype=int)\n",
    "tones_colors"
   ]
  },
  {
   "cell_type": "code",
   "execution_count": null,
   "metadata": {},
   "outputs": [],
   "source": [
    "for i in range(3):\n",
    "    tones_colors[most_played_tones[i]] = triadic_colors[i]\n",
    "\n",
    "tones_colors_primary =  tones_colors.copy()"
   ]
  },
  {
   "cell_type": "code",
   "execution_count": null,
   "metadata": {},
   "outputs": [],
   "source": [
    "fig, ax = plt.subplots(1, figsize=(10, 2))\n",
    "\n",
    "# Pro každou barvu vytvoříme obdélník a přidáme ho do grafu\n",
    "for i, barva in enumerate(tones_colors):\n",
    "    # Vytvoření obdélníku pro každou barvu\n",
    "    # Pozice a velikost obdélníku jsou určeny tak, aby všechny barvy byly vedle sebe\n",
    "    rect = plt.Rectangle((i, 0), 1, 1, color=barva/255)  # Normalizace RGB hodnot do rozsahu 0-1\n",
    "    ax.add_patch(rect)\n",
    "\n",
    "# Nastavení os pro zobrazení všech obdélníků\n",
    "ax.set_xlim(0, 12)\n",
    "ax.set_ylim(0, 1)\n",
    "ax.axis('off')  # Vypnutí os, abychom viděli jen barvy\n",
    "\n",
    "plt.show()"
   ]
  },
  {
   "cell_type": "code",
   "execution_count": null,
   "metadata": {},
   "outputs": [],
   "source": [
    "print(tones_colors_primary)"
   ]
  },
  {
   "cell_type": "code",
   "execution_count": null,
   "metadata": {},
   "outputs": [],
   "source": [
    "def Color_shift(old_color, i):\n",
    "    old_color_hsv = colorsys.rgb_to_hsv(r=old_color[0],g=old_color[1],b=old_color[2])\n",
    "    new_color_hsv = list(old_color_hsv)\n",
    "    new_color_hsv[0] = (new_color_hsv[0] + (i * 15)/360.0)\n",
    "    new_color = colorsys.hsv_to_rgb(new_color_hsv[0],new_color_hsv[1], new_color_hsv[2])\n",
    "    new_color = [int(new_color[0]), int(new_color[1]), int(new_color[2])]\n",
    "    return new_color\n",
    "\n",
    "for i in range (12):\n",
    "    for n in range (3):\n",
    "        try:\n",
    "            if np.sum(tones_colors[most_played_tones[n]-i]) == 0 and (most_played_tones[n]-i) >= 0:\n",
    "                tones_colors[most_played_tones[n]-i] = Color_shift(triadic_colors[n],i)\n",
    "                # tones_colors[most_played_tones[n]-i] = np.rint(triadic_colors[n] * (1-(i*0.08))).astype(int)\n",
    "        except IndexError:\n",
    "            continue\n",
    "    \n",
    "        try:\n",
    "            if np.sum(tones_colors[most_played_tones[n]+i]) == 0:\n",
    "                tones_colors[most_played_tones[n]+i] = Color_shift(triadic_colors[n],i)\n",
    "                # tones_colors[most_played_tones[n]+i] = np.rint(triadic_colors[n] * (1-(i*0.08))).astype(int)\n",
    "\n",
    "        except IndexError:\n",
    "            continue"
   ]
  },
  {
   "cell_type": "code",
   "execution_count": null,
   "metadata": {},
   "outputs": [],
   "source": [
    "print(tones_colors)"
   ]
  },
  {
   "cell_type": "code",
   "execution_count": null,
   "metadata": {},
   "outputs": [],
   "source": [
    "fig, ax = plt.subplots(2,1, figsize=(9, 3))\n",
    "fig.tight_layout()\n",
    "fig.subplots_adjust(hspace = 0.3 )\n",
    "\n",
    "# Pro každou barvu vytvoříme obdélník a přidáme ho do grafu\n",
    "for i, barva in enumerate(tones_colors_primary):\n",
    "    # Vytvoření obdélníku pro každou barvu\n",
    "    # Pozice a velikost obdélníku jsou určeny tak, aby všechny barvy byly vedle sebe\n",
    "    rect_0 = plt.Rectangle((i, 0), 1, 1, color=barva/255)  # Normalizace RGB hodnot do rozsahu 0-1\n",
    "    ax[0].add_patch(rect_0)\n",
    "\n",
    "for i, barva in enumerate(tones_colors):\n",
    "    # Vytvoření obdélníku pro každou barvu\n",
    "    # Pozice a velikost obdélníku jsou určeny tak, aby všechny barvy byly vedle sebe\n",
    "    rect = plt.Rectangle((i, 0), 1, 1, color=barva/255)  # Normalizace RGB hodnot do rozsahu 0-1\n",
    "    ax[1].add_patch(rect)\n",
    "\n",
    "\n",
    "# Nastavení os pro zobrazení všech obdélníků\n",
    "ax[0].set_xlim(0, 12)\n",
    "ax[0].set_ylim(0, 1)\n",
    "ax[0].get_yaxis().set_visible(False)\n",
    "ax[0].set_title('a)', x=-0.03,y=0.4)\n",
    "\n",
    "ax[1].set_xlim(0, 12)\n",
    "ax[1].set_ylim(0, 1)\n",
    "ax[1].get_yaxis().set_visible(False)\n",
    "ax[1].set_title('b)', x=-0.03,y=0.4)\n",
    "ax[1].set_xlabel(\"Půltóny\")\n",
    "\n",
    "plt.show()\n",
    "\n",
    "# fig.savefig('Color_palete.eps', format='eps', bbox_inches='tight')"
   ]
  },
  {
   "cell_type": "code",
   "execution_count": null,
   "metadata": {},
   "outputs": [],
   "source": [
    "import numpy as np\n",
    "def find_nearest_lower(array, value):\n",
    "    array = np.asarray(array)\n",
    "    array.sort()\n",
    "    idx = (np.abs(array - value)).argmin()\n",
    "    print(array)\n",
    "    if array[idx] > value:\n",
    "        idx -= 1\n",
    "\n",
    "    return array[idx]"
   ]
  },
  {
   "cell_type": "code",
   "execution_count": null,
   "metadata": {},
   "outputs": [],
   "source": [
    "array = [0.21069679, 0.61290182, 0.63425412, 0.84635244, 0.91599191, 0.00213826, 0.17104965, 0.56874386, 0.57319379, 0.28719469, 0.48, 0.51, 0.50002]\n",
    "print(array)\n",
    "\n",
    "print(find_nearest_lower(array, value=0.5))"
   ]
  },
  {
   "cell_type": "code",
   "execution_count": null,
   "metadata": {},
   "outputs": [],
   "source": []
  }
 ],
 "metadata": {
  "kernelspec": {
   "display_name": "Python 3",
   "language": "python",
   "name": "python3"
  },
  "language_info": {
   "codemirror_mode": {
    "name": "ipython",
    "version": 3
   },
   "file_extension": ".py",
   "mimetype": "text/x-python",
   "name": "python",
   "nbconvert_exporter": "python",
   "pygments_lexer": "ipython3",
   "version": "3.11.6"
  }
 },
 "nbformat": 4,
 "nbformat_minor": 2
}
