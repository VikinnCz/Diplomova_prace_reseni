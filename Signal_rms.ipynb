{
 "cells": [
  {
   "cell_type": "code",
   "execution_count": 6,
   "metadata": {},
   "outputs": [],
   "source": [
    "import matplotlib.pyplot as plt\n",
    "import numpy as np\n",
    "import librosa\n"
   ]
  },
  {
   "cell_type": "code",
   "execution_count": 7,
   "metadata": {},
   "outputs": [],
   "source": [
    "uploaded_file_name = \"Referencni_skladby/The Beatles - Abbey Road (1969) (2012 180g Vinyl 24bit-96kHz) [FLAC] vtwin88cube/04.-Oh! Darling.wav\"\n",
    "y, sr = librosa.load(uploaded_file_name)"
   ]
  },
  {
   "cell_type": "code",
   "execution_count": 8,
   "metadata": {},
   "outputs": [],
   "source": [
    "S, phase = librosa.magphase(librosa.stft(y))\n",
    "rms = librosa.feature.rms(S=S)"
   ]
  },
  {
   "cell_type": "code",
   "execution_count": 9,
   "metadata": {},
   "outputs": [
    {
     "data": {
      "text/plain": [
       "8825"
      ]
     },
     "execution_count": 9,
     "metadata": {},
     "output_type": "execute_result"
    }
   ],
   "source": [
    "rms.size"
   ]
  },
  {
   "cell_type": "code",
   "execution_count": 10,
   "metadata": {},
   "outputs": [
    {
     "ename": "IndexError",
     "evalue": "index 1 is out of bounds for axis 0 with size 1",
     "output_type": "error",
     "traceback": [
      "\u001b[1;31m---------------------------------------------------------------------------\u001b[0m",
      "\u001b[1;31mIndexError\u001b[0m                                Traceback (most recent call last)",
      "\u001b[1;32mc:\\Users\\Zekon\\OneDrive - Vysoké učení technické v Brně\\VŠ\\5_ročník\\Diplomova_prace\\Diplomova_prace_reseni\\Signal_energy.ipynb Cell 5\u001b[0m line \u001b[0;36m6\n\u001b[0;32m      <a href='vscode-notebook-cell:/c%3A/Users/Zekon/OneDrive%20-%20Vysok%C3%A9%20u%C4%8Den%C3%AD%20technick%C3%A9%20v%20Brn%C4%9B/V%C5%A0/5_ro%C4%8Dn%C3%ADk/Diplomova_prace/Diplomova_prace_reseni/Signal_energy.ipynb#W6sZmlsZQ%3D%3D?line=3'>4</a>\u001b[0m \u001b[39mfor\u001b[39;00m n \u001b[39min\u001b[39;00m \u001b[39mrange\u001b[39m(rms\u001b[39m.\u001b[39msize\u001b[39m-\u001b[39m\u001b[39m3\u001b[39m):\n\u001b[0;32m      <a href='vscode-notebook-cell:/c%3A/Users/Zekon/OneDrive%20-%20Vysok%C3%A9%20u%C4%8Den%C3%AD%20technick%C3%A9%20v%20Brn%C4%9B/V%C5%A0/5_ro%C4%8Dn%C3%ADk/Diplomova_prace/Diplomova_prace_reseni/Signal_energy.ipynb#W6sZmlsZQ%3D%3D?line=4'>5</a>\u001b[0m     \u001b[39mfor\u001b[39;00m m \u001b[39min\u001b[39;00m \u001b[39mrange\u001b[39m(order):\n\u001b[1;32m----> <a href='vscode-notebook-cell:/c%3A/Users/Zekon/OneDrive%20-%20Vysok%C3%A9%20u%C4%8Den%C3%AD%20technick%C3%A9%20v%20Brn%C4%9B/V%C5%A0/5_ro%C4%8Dn%C3%ADk/Diplomova_prace/Diplomova_prace_reseni/Signal_energy.ipynb#W6sZmlsZQ%3D%3D?line=5'>6</a>\u001b[0m         mva[n] \u001b[39m=\u001b[39m rms[\u001b[39m1\u001b[39;49m,(n\u001b[39m+\u001b[39;49mm)]\n",
      "\u001b[1;31mIndexError\u001b[0m: index 1 is out of bounds for axis 0 with size 1"
     ]
    }
   ],
   "source": [
    "#mooving averages\n",
    "order = 3\n",
    "mva = np.zeros(rms.size - order)\n",
    "for n in range(rms.size-3):\n",
    "    for m in range(order):\n",
    "        mva[n] = rms[0,(n+m)]"
   ]
  },
  {
   "cell_type": "code",
   "execution_count": null,
   "metadata": {},
   "outputs": [],
   "source": [
    "fig, ax = plt.subplots(2,1, figsize=(20,10))\n",
    "times = librosa.times_like(rms)\n",
    "ax[0].semilogy(times, rms[0], label='RMS Energy')\n",
    "ax[0].set(xticks=[])\n",
    "ax[0].legend()\n",
    "ax[0].label_outer()\n",
    "librosa.display.specshow(librosa.amplitude_to_db(S, ref=np.max), y_axis='log', x_axis='time', ax=ax[1])\n",
    "ax[1].set(title='log Power spectrogram')"
   ]
  },
  {
   "cell_type": "code",
   "execution_count": null,
   "metadata": {},
   "outputs": [],
   "source": []
  }
 ],
 "metadata": {
  "kernelspec": {
   "display_name": "Python 3",
   "language": "python",
   "name": "python3"
  },
  "language_info": {
   "codemirror_mode": {
    "name": "ipython",
    "version": 3
   },
   "file_extension": ".py",
   "mimetype": "text/x-python",
   "name": "python",
   "nbconvert_exporter": "python",
   "pygments_lexer": "ipython3",
   "version": "3.11.6"
  }
 },
 "nbformat": 4,
 "nbformat_minor": 2
}
